{
 "cells": [
  {
   "cell_type": "code",
   "execution_count": 2,
   "id": "a0cbe3bc-8e76-4b05-909b-01bfcd1fd7e2",
   "metadata": {},
   "outputs": [],
   "source": [
    "#Q1 Write a Python program to replace all occurrences of a space, comma, or dot with a colon."
   ]
  },
  {
   "cell_type": "code",
   "execution_count": 3,
   "id": "8db4c763-2117-44e7-a4e1-3a735a656d2a",
   "metadata": {},
   "outputs": [
    {
     "name": "stdout",
     "output_type": "stream",
     "text": [
      "Python:Exercises::PHP:exercises:\n"
     ]
    }
   ],
   "source": [
    "def replace_chars(text):\n",
    "    replacements = {' ': ':', ',': ':', '.': ':'}\n",
    "    for char, replacement in replacements.items():\n",
    "        text = text.replace(char, replacement)\n",
    "    return text\n",
    "\n",
    "sample_text = 'Python Exercises, PHP exercises.'\n",
    "output = replace_chars(sample_text)\n",
    "print(output)"
   ]
  },
  {
   "cell_type": "code",
   "execution_count": 4,
   "id": "e1cba8f6-c7c0-4c96-9060-1af4e203697a",
   "metadata": {},
   "outputs": [],
   "source": [
    "#Q2 Create a dataframe using the dictionary below and remove everything (commas (,), !, XXXX, ;, etc.) from the columns except words."
   ]
  },
  {
   "cell_type": "code",
   "execution_count": 5,
   "id": "3f097529-cdc9-48ce-9783-83222ccafb65",
   "metadata": {},
   "outputs": [
    {
     "name": "stdout",
     "output_type": "stream",
     "text": [
      "         SUMMARY\n",
      "0    hello world\n",
      "1     XXXXX test\n",
      "2  four five six\n"
     ]
    }
   ],
   "source": [
    "import pandas as pd\n",
    "import re\n",
    "\n",
    "data = {'SUMMARY': ['hello, world!', 'XXXXX test', '123four, five:; six...']}\n",
    "\n",
    "df = pd.DataFrame(data)\n",
    "\n",
    "def remove_special_characters(text):\n",
    "    return re.sub(r'[^a-zA-Z\\s]', '', text)\n",
    "\n",
    "df['SUMMARY'] = df['SUMMARY'].apply(remove_special_characters)\n",
    "\n",
    "print(df)"
   ]
  },
  {
   "cell_type": "code",
   "execution_count": 6,
   "id": "f7d6d5ab-81ec-4326-a943-ae9a7ea72f11",
   "metadata": {},
   "outputs": [],
   "source": [
    "#Q3 Create a function in python to find all words that are at least 4 characters long in a string. The use of the re.compile() method is mandatory."
   ]
  },
  {
   "cell_type": "code",
   "execution_count": 7,
   "id": "a3f4dabb-5272-4ca5-bd29-b158e1f89906",
   "metadata": {},
   "outputs": [
    {
     "name": "stdout",
     "output_type": "stream",
     "text": [
      "['This', 'sample', 'sentence', 'with', 'some', 'words', 'different', 'lengths', 'like', 'hello', 'world', 'python', 'programming']\n"
     ]
    }
   ],
   "source": [
    "import re\n",
    "\n",
    "def find_long_words(text):\n",
    "    pattern = re.compile(r'\\b\\w{4,}\\b')\n",
    "    \n",
    "    long_words = pattern.findall(text)\n",
    "    \n",
    "    return long_words\n",
    "\n",
    "text = \"This is a sample sentence with some words of different lengths like hello, world, python, programming, etc.\"\n",
    "result = find_long_words(text)\n",
    "print(result)"
   ]
  },
  {
   "cell_type": "code",
   "execution_count": 8,
   "id": "edd7c9e2-4ef0-4018-ac44-0a0e3b11ef04",
   "metadata": {},
   "outputs": [],
   "source": [
    "#Q4 Create a function in python to find all three, four, and five character words in a string. The use of the re.compile() method is mandatory."
   ]
  },
  {
   "cell_type": "code",
   "execution_count": 9,
   "id": "703748c8-484e-4f73-bdb7-23342eefaae3",
   "metadata": {},
   "outputs": [
    {
     "name": "stdout",
     "output_type": "stream",
     "text": [
      "['This', 'with', 'some', 'words', 'like', 'hello', 'world', 'etc']\n"
     ]
    }
   ],
   "source": [
    "import re\n",
    "\n",
    "def find_specific_length_words(text):\n",
    "    pattern = re.compile(r'\\b\\w{3,5}\\b')\n",
    "    \n",
    "    specific_length_words = pattern.findall(text)\n",
    "    \n",
    "    return specific_length_words\n",
    "\n",
    "text = \"This is a sample sentence with some words of different lengths like hello, world, python, programming, etc.\"\n",
    "result = find_specific_length_words(text)\n",
    "print(result)"
   ]
  },
  {
   "cell_type": "code",
   "execution_count": 10,
   "id": "db91c1bf-d975-4be6-8a58-9ead58f575b7",
   "metadata": {},
   "outputs": [],
   "source": [
    "#Q5 Create a function in Python to remove the parenthesis in a list of strings. The use of the re.compile() method is mandatory."
   ]
  },
  {
   "cell_type": "code",
   "execution_count": 20,
   "id": "91d9bf07-5ee8-4f6d-bdfd-fe0b2ea317c8",
   "metadata": {},
   "outputs": [
    {
     "name": "stdout",
     "output_type": "stream",
     "text": [
      "example \n",
      "hr@fliprobo \n",
      "github \n",
      "Hello \n",
      "Data \n"
     ]
    }
   ],
   "source": [
    "import re\n",
    "\n",
    "def remove_parentheses(strings):\n",
    "    pattern = re.compile(r'\\((.*?)\\)')\n",
    "\n",
    "    modified_strings = [pattern.sub('', s) for s in strings]\n",
    "    \n",
    "    return modified_strings\n",
    "\n",
    "sample_text = [\"example (.com)\", \"hr@fliprobo (.com)\", \"github (.com)\", \"Hello (Data Science World)\", \"Data (Scientist)\"]\n",
    "output = remove_parentheses(sample_text)\n",
    "for text in output:\n",
    "    print(text)"
   ]
  },
  {
   "cell_type": "code",
   "execution_count": 21,
   "id": "e3afb58f-19f4-43b3-8a56-ad5d25eadaed",
   "metadata": {},
   "outputs": [],
   "source": [
    "#Q6 Write a python program to remove the parenthesis area from the text stored in the text file using Regular Expression."
   ]
  },
  {
   "cell_type": "code",
   "execution_count": 24,
   "id": "541cf252-5c9c-4572-99e0-e15722781179",
   "metadata": {},
   "outputs": [
    {
     "ename": "FileNotFoundError",
     "evalue": "[Errno 2] No such file or directory: 'sample_text.txt'",
     "output_type": "error",
     "traceback": [
      "\u001b[1;31m---------------------------------------------------------------------------\u001b[0m",
      "\u001b[1;31mFileNotFoundError\u001b[0m                         Traceback (most recent call last)",
      "Cell \u001b[1;32mIn[24], line 13\u001b[0m\n\u001b[0;32m     10\u001b[0m     \u001b[38;5;28;01mreturn\u001b[39;00m modified_text\n\u001b[0;32m     12\u001b[0m \u001b[38;5;66;03m# Read text from file\u001b[39;00m\n\u001b[1;32m---> 13\u001b[0m \u001b[38;5;28;01mwith\u001b[39;00m \u001b[38;5;28mopen\u001b[39m(\u001b[38;5;124m'\u001b[39m\u001b[38;5;124msample_text.txt\u001b[39m\u001b[38;5;124m'\u001b[39m, \u001b[38;5;124m'\u001b[39m\u001b[38;5;124mr\u001b[39m\u001b[38;5;124m'\u001b[39m) \u001b[38;5;28;01mas\u001b[39;00m file:\n\u001b[0;32m     14\u001b[0m     original_text \u001b[38;5;241m=\u001b[39m file\u001b[38;5;241m.\u001b[39mread()\n\u001b[0;32m     16\u001b[0m \u001b[38;5;66;03m# Remove parentheses from the text\u001b[39;00m\n",
      "File \u001b[1;32mE:\\Data Science\\Anaconda\\Lib\\site-packages\\IPython\\core\\interactiveshell.py:310\u001b[0m, in \u001b[0;36m_modified_open\u001b[1;34m(file, *args, **kwargs)\u001b[0m\n\u001b[0;32m    303\u001b[0m \u001b[38;5;28;01mif\u001b[39;00m file \u001b[38;5;129;01min\u001b[39;00m {\u001b[38;5;241m0\u001b[39m, \u001b[38;5;241m1\u001b[39m, \u001b[38;5;241m2\u001b[39m}:\n\u001b[0;32m    304\u001b[0m     \u001b[38;5;28;01mraise\u001b[39;00m \u001b[38;5;167;01mValueError\u001b[39;00m(\n\u001b[0;32m    305\u001b[0m         \u001b[38;5;124mf\u001b[39m\u001b[38;5;124m\"\u001b[39m\u001b[38;5;124mIPython won\u001b[39m\u001b[38;5;124m'\u001b[39m\u001b[38;5;124mt let you open fd=\u001b[39m\u001b[38;5;132;01m{\u001b[39;00mfile\u001b[38;5;132;01m}\u001b[39;00m\u001b[38;5;124m by default \u001b[39m\u001b[38;5;124m\"\u001b[39m\n\u001b[0;32m    306\u001b[0m         \u001b[38;5;124m\"\u001b[39m\u001b[38;5;124mas it is likely to crash IPython. If you know what you are doing, \u001b[39m\u001b[38;5;124m\"\u001b[39m\n\u001b[0;32m    307\u001b[0m         \u001b[38;5;124m\"\u001b[39m\u001b[38;5;124myou can use builtins\u001b[39m\u001b[38;5;124m'\u001b[39m\u001b[38;5;124m open.\u001b[39m\u001b[38;5;124m\"\u001b[39m\n\u001b[0;32m    308\u001b[0m     )\n\u001b[1;32m--> 310\u001b[0m \u001b[38;5;28;01mreturn\u001b[39;00m io_open(file, \u001b[38;5;241m*\u001b[39margs, \u001b[38;5;241m*\u001b[39m\u001b[38;5;241m*\u001b[39mkwargs)\n",
      "\u001b[1;31mFileNotFoundError\u001b[0m: [Errno 2] No such file or directory: 'sample_text.txt'"
     ]
    }
   ],
   "source": [
    "import re\n",
    "\n",
    "def remove_parentheses(text):\n",
    "    # Compile a regular expression pattern to match parentheses\n",
    "    pattern = re.compile(r'\\((.*?)\\)')\n",
    "\n",
    "    # Remove parentheses from the text\n",
    "    modified_text = pattern.sub('', text)\n",
    "    \n",
    "    return modified_text\n",
    "\n",
    "# Read text from file\n",
    "with open('sample_text.txt', 'r') as file:\n",
    "    original_text = file.read()\n",
    "\n",
    "# Remove parentheses from the text\n",
    "modified_text = remove_parentheses(original_text)\n",
    "\n",
    "# Write modified text back to file\n",
    "with open('modified_text.txt', 'w') as file:\n",
    "    file.write(modified_text)\n"
   ]
  },
  {
   "cell_type": "code",
   "execution_count": 26,
   "id": "223ecd0e-919b-4c13-be8e-a78d4e28b03a",
   "metadata": {},
   "outputs": [],
   "source": [
    "#Q7 Write a regular expression in Python to split a string into uppercase letters.\n"
   ]
  },
  {
   "cell_type": "code",
   "execution_count": 27,
   "id": "599af668-43b9-4d5a-aeca-70d877c52631",
   "metadata": {},
   "outputs": [
    {
     "name": "stdout",
     "output_type": "stream",
     "text": [
      "['Data', 'Trained', 'Data', 'Science', 'Course', 'Project']\n"
     ]
    }
   ],
   "source": [
    "import re\n",
    "\n",
    "def split_uppercase(text):\n",
    "    pattern = re.findall('[A-Z][^A-Z]*', text)\n",
    "    \n",
    "    return pattern\n",
    "\n",
    "sample_text = \"DataTrainedDataScienceCourseProject\"\n",
    "\n",
    "output = split_uppercase(sample_text)\n",
    "print(output)\n"
   ]
  },
  {
   "cell_type": "code",
   "execution_count": 28,
   "id": "841001ea-1420-44cb-8630-962897b0f76a",
   "metadata": {},
   "outputs": [],
   "source": [
    "#Q8 Create a function in python to insert spaces between words starting with numbers."
   ]
  },
  {
   "cell_type": "code",
   "execution_count": 30,
   "id": "1b35ca67-f928-4169-9c59-e705b6acf809",
   "metadata": {},
   "outputs": [
    {
     "name": "stdout",
     "output_type": "stream",
     "text": [
      "DataTrained1 DataScience2 Course3 Project\n"
     ]
    }
   ],
   "source": [
    "import re\n",
    "\n",
    "def insert_spaces(text):\n",
    "    pattern = re.compile(r'(\\d)([A-Za-z])')\n",
    "    \n",
    "    modified_text = re.sub(pattern, r'\\1 \\2', text)\n",
    "    \n",
    "    return modified_text\n",
    "\n",
    "sample_text = \"DataTrained1DataScience2Course3Project\"\n",
    "\n",
    "output = insert_spaces(sample_text)\n",
    "print(output)\n"
   ]
  },
  {
   "cell_type": "code",
   "execution_count": 31,
   "id": "956bf30d-161d-4e7a-8cc4-6a8d6888ffbf",
   "metadata": {},
   "outputs": [],
   "source": [
    "#Q9 Create a function in python to insert spaces between words starting with capital letters or with numbers."
   ]
  },
  {
   "cell_type": "code",
   "execution_count": 32,
   "id": "3c4fecff-1e40-4c57-96f3-1f816bc1f612",
   "metadata": {},
   "outputs": [
    {
     "name": "stdout",
     "output_type": "stream",
     "text": [
      " Regular Expression1 Is An2 Important Topic3 In Python\n"
     ]
    }
   ],
   "source": [
    "import re\n",
    "\n",
    "def insert_spaces(text):\n",
    "    pattern = re.compile(r'([A-Z0-9][a-z])')\n",
    "    \n",
    "    modified_text = re.sub(pattern, r' \\1', text)\n",
    "    \n",
    "    return modified_text\n",
    "\n",
    "sample_text = \"RegularExpression1IsAn2ImportantTopic3InPython\"\n",
    "\n",
    "output = insert_spaces(sample_text)\n",
    "print(output)\n"
   ]
  },
  {
   "cell_type": "code",
   "execution_count": 33,
   "id": "8f2e43c5-eaaa-4d6b-b19a-387948ac8f07",
   "metadata": {},
   "outputs": [],
   "source": [
    "#Q10"
   ]
  },
  {
   "cell_type": "code",
   "execution_count": 34,
   "id": "f82acfb8-d297-45c0-b5ef-81af345aac2f",
   "metadata": {},
   "outputs": [
    {
     "name": "stdout",
     "output_type": "stream",
     "text": [
      "       Country          Region  Happiness Rank  Happiness Score  \\\n",
      "0  Switzerland  Western Europe               1            7.587   \n",
      "1      Iceland  Western Europe               2            7.561   \n",
      "2      Denmark  Western Europe               3            7.527   \n",
      "3       Norway  Western Europe               4            7.522   \n",
      "4       Canada   North America               5            7.427   \n",
      "\n",
      "   Standard Error  Economy (GDP per Capita)   Family  \\\n",
      "0         0.03411                   1.39651  1.34951   \n",
      "1         0.04884                   1.30232  1.40223   \n",
      "2         0.03328                   1.32548  1.36058   \n",
      "3         0.03880                   1.45900  1.33095   \n",
      "4         0.03553                   1.32629  1.32261   \n",
      "\n",
      "   Health (Life Expectancy)  Freedom  Trust (Government Corruption)  \\\n",
      "0                   0.94143  0.66557                        0.41978   \n",
      "1                   0.94784  0.62877                        0.14145   \n",
      "2                   0.87464  0.64938                        0.48357   \n",
      "3                   0.88521  0.66973                        0.36503   \n",
      "4                   0.90563  0.63297                        0.32957   \n",
      "\n",
      "   Generosity  Dystopia Residual first_five_letters  \n",
      "0     0.29678            2.51738             Switze  \n",
      "1     0.43630            2.70201             Icelan  \n",
      "2     0.34139            2.49204             Denmar  \n",
      "3     0.34699            2.46531             Norway  \n",
      "4     0.45811            2.45176             Canada  \n"
     ]
    }
   ],
   "source": [
    "import pandas as pd\n",
    "\n",
    "url = \"https://raw.githubusercontent.com/dsrscientist/DSData/master/happiness_score_dataset.csv\"\n",
    "df = pd.read_csv(url)\n",
    "\n",
    "df['first_five_letters'] = df['Country'].str[:6]\n",
    "\n",
    "print(df.head())\n"
   ]
  },
  {
   "cell_type": "code",
   "execution_count": 35,
   "id": "17c068d0-abb6-4b66-aefc-1998c2c1438a",
   "metadata": {},
   "outputs": [],
   "source": [
    "#Q11 Write a Python program to match a string that contains only upper and lowercase letters, numbers, and underscores."
   ]
  },
  {
   "cell_type": "code",
   "execution_count": 36,
   "id": "91bed121-21e2-4bb6-92bc-d1270eb98c0f",
   "metadata": {},
   "outputs": [
    {
     "name": "stdout",
     "output_type": "stream",
     "text": [
      "'Hello123' matches the pattern.\n",
      "'example_string' matches the pattern.\n",
      "'123_abc' matches the pattern.\n",
      "'No$pecialChars' does not match the pattern.\n"
     ]
    }
   ],
   "source": [
    "import re\n",
    "\n",
    "def match_string(text):\n",
    "    pattern = re.compile(r'^[a-zA-Z0-9_]+$')\n",
    "    \n",
    "    if pattern.match(text):\n",
    "        return True\n",
    "    else:\n",
    "        return False\n",
    "\n",
    "test_strings = [\"Hello123\", \"example_string\", \"123_abc\", \"No$pecialChars\"]\n",
    "for string in test_strings:\n",
    "    if match_string(string):\n",
    "        print(f\"'{string}' matches the pattern.\")\n",
    "    else:\n",
    "        print(f\"'{string}' does not match the pattern.\")\n"
   ]
  },
  {
   "cell_type": "code",
   "execution_count": 38,
   "id": "3b8120ef-b7cc-48fd-a8da-04e05751f98b",
   "metadata": {},
   "outputs": [],
   "source": [
    "#Q12 Write a Python program where a string will start with a specific number. "
   ]
  },
  {
   "cell_type": "code",
   "execution_count": 39,
   "id": "94d6244b-7792-464d-955e-b0d523ca6aae",
   "metadata": {},
   "outputs": [
    {
     "name": "stdout",
     "output_type": "stream",
     "text": [
      "'123abc' starts with the number 123.\n",
      "'456xyz' does not start with the number 123.\n",
      "'789pqr' does not start with the number 123.\n",
      "'abc123' does not start with the number 123.\n",
      "'xyz456' does not start with the number 123.\n"
     ]
    }
   ],
   "source": [
    "import re\n",
    "\n",
    "def starts_with_number(string, number):\n",
    "    pattern = re.compile(r'^' + str(number) + r'\\D')\n",
    "    \n",
    "    if pattern.match(string):\n",
    "        return True\n",
    "    else:\n",
    "        return False\n",
    "\n",
    "test_strings = [\"123abc\", \"456xyz\", \"789pqr\", \"abc123\", \"xyz456\"]\n",
    "specific_number = 123\n",
    "for string in test_strings:\n",
    "    if starts_with_number(string, specific_number):\n",
    "        print(f\"'{string}' starts with the number {specific_number}.\")\n",
    "    else:\n",
    "        print(f\"'{string}' does not start with the number {specific_number}.\")\n"
   ]
  },
  {
   "cell_type": "code",
   "execution_count": 40,
   "id": "5e7a8baf-07d2-4ec7-a6fb-879920d7f41d",
   "metadata": {},
   "outputs": [],
   "source": [
    "#Q13 Write a Python program to remove leading zeros from an IP address"
   ]
  },
  {
   "cell_type": "code",
   "execution_count": 41,
   "id": "e9267b77-c322-4586-aa49-7d1cc14130b9",
   "metadata": {},
   "outputs": [
    {
     "name": "stdout",
     "output_type": "stream",
     "text": [
      "Original IP address: 192.168.001.001\n",
      "Modified IP address: 192.168.1.1\n"
     ]
    }
   ],
   "source": [
    "def remove_leading_zeros(ip_address):\n",
    "    octets = ip_address.split('.')\n",
    "    \n",
    "    octets = [str(int(octet)) for octet in octets]\n",
    "    \n",
    "    modified_ip_address = '.'.join(octets)\n",
    "    \n",
    "    return modified_ip_address\n",
    "\n",
    "ip_address = \"192.168.001.001\"\n",
    "modified_ip = remove_leading_zeros(ip_address)\n",
    "print(\"Original IP address:\", ip_address)\n",
    "print(\"Modified IP address:\", modified_ip)\n"
   ]
  },
  {
   "cell_type": "code",
   "execution_count": 42,
   "id": "80ee994f-b43c-4d72-8d49-756eae89dd9c",
   "metadata": {},
   "outputs": [],
   "source": [
    "#Q14 Write a regular expression in python to match a date string in the form of Month name followed by day number and year stored in a text file."
   ]
  },
  {
   "cell_type": "code",
   "execution_count": 43,
   "id": "f22612ec-d8d8-4370-80d3-6e0389d53ea3",
   "metadata": {},
   "outputs": [],
   "source": [
    "#Q15 Write a Python program to search some literals strings in a string. "
   ]
  },
  {
   "cell_type": "code",
   "execution_count": 44,
   "id": "8082db1b-26db-4d8f-b4b6-1e736ab6b175",
   "metadata": {},
   "outputs": [
    {
     "name": "stdout",
     "output_type": "stream",
     "text": [
      "Found words: ['fox', 'dog']\n"
     ]
    }
   ],
   "source": [
    "def search_words(text, words):\n",
    "    found_words = []\n",
    "    for word in words:\n",
    "        if word in text:\n",
    "            found_words.append(word)\n",
    "    return found_words\n",
    "\n",
    "sample_text = 'The quick brown fox jumps over the lazy dog.'\n",
    "\n",
    "searched_words = ['fox', 'dog', 'horse']\n",
    "\n",
    "found_words = search_words(sample_text, searched_words)\n",
    "\n",
    "if found_words:\n",
    "    print(\"Found words:\", found_words)\n",
    "else:\n",
    "    print(\"No words found.\")\n"
   ]
  },
  {
   "cell_type": "code",
   "execution_count": 45,
   "id": "8ddafbf9-90a4-431b-a650-6b988dff0e91",
   "metadata": {},
   "outputs": [],
   "source": [
    "#Q16 Write a Python program to search a literals string in a string and also find the location within the original string where the pattern occurs"
   ]
  },
  {
   "cell_type": "code",
   "execution_count": 46,
   "id": "9c611821-e8da-4b76-8d49-5faebcbb5041",
   "metadata": {},
   "outputs": [
    {
     "name": "stdout",
     "output_type": "stream",
     "text": [
      "The word 'fox' is found at index 16.\n"
     ]
    }
   ],
   "source": [
    "def search_word(text, word):\n",
    "    index = text.find(word)\n",
    "    return index\n",
    "\n",
    "sample_text = 'The quick brown fox jumps over the lazy dog.'\n",
    "\n",
    "searched_word = 'fox'\n",
    "\n",
    "location = search_word(sample_text, searched_word)\n",
    "\n",
    "if location != -1:\n",
    "    print(f\"The word '{searched_word}' is found at index {location}.\")\n",
    "else:\n",
    "    print(f\"The word '{searched_word}' is not found in the text.\")\n"
   ]
  },
  {
   "cell_type": "code",
   "execution_count": 47,
   "id": "bd557d89-bc77-4317-b0d0-e73552cf2ea4",
   "metadata": {},
   "outputs": [],
   "source": [
    "#Q17 Write a Python program to find the substrings within a string."
   ]
  },
  {
   "cell_type": "code",
   "execution_count": 48,
   "id": "494d6645-22c4-4d81-8696-e0a3ad6fbd72",
   "metadata": {},
   "outputs": [
    {
     "name": "stdout",
     "output_type": "stream",
     "text": [
      "The pattern 'exercises' is found at indexes: [7, 22, 36]\n"
     ]
    }
   ],
   "source": [
    "def find_substrings(text, pattern):\n",
    "    indexes = []\n",
    "    start_index = text.find(pattern)\n",
    "    while start_index != -1:\n",
    "        indexes.append(start_index)\n",
    "        start_index = text.find(pattern, start_index + 1)\n",
    "    return indexes\n",
    "\n",
    "sample_text = 'Python exercises, PHP exercises, C# exercises'\n",
    "\n",
    "pattern = 'exercises'\n",
    "\n",
    "occurrences = find_substrings(sample_text, pattern)\n",
    "\n",
    "if occurrences:\n",
    "    print(f\"The pattern '{pattern}' is found at indexes:\", occurrences)\n",
    "else:\n",
    "    print(f\"The pattern '{pattern}' is not found in the text.\")\n"
   ]
  },
  {
   "cell_type": "code",
   "execution_count": 50,
   "id": "3e97d522-8a3f-4c32-808b-57438c29de49",
   "metadata": {},
   "outputs": [],
   "source": [
    "#Q18 Write a Python program to find the occurrence and position of the substrings within a string."
   ]
  },
  {
   "cell_type": "code",
   "execution_count": 51,
   "id": "eabd407b-c4a7-4e51-91c6-b97c58f6df9a",
   "metadata": {},
   "outputs": [
    {
     "name": "stdout",
     "output_type": "stream",
     "text": [
      "The pattern 'exercises' occurs at the following positions:\n",
      "Position: 7-15\n",
      "Position: 22-30\n",
      "Position: 36-44\n"
     ]
    }
   ],
   "source": [
    "def find_occurrences(text, pattern):\n",
    "    occurrences = []\n",
    "    length = len(pattern)\n",
    "    for i in range(len(text) - length + 1):\n",
    "        if text[i:i+length] == pattern:\n",
    "            occurrences.append((i, i+length-1))\n",
    "    return occurrences\n",
    "\n",
    "sample_text = 'Python exercises, PHP exercises, C# exercises'\n",
    "\n",
    "pattern = 'exercises'\n",
    "\n",
    "occurrences = find_occurrences(sample_text, pattern)\n",
    "\n",
    "if occurrences:\n",
    "    print(f\"The pattern '{pattern}' occurs at the following positions:\")\n",
    "    for occurrence in occurrences:\n",
    "        start, end = occurrence\n",
    "        print(f\"Position: {start}-{end}\")\n",
    "else:\n",
    "    print(f\"The pattern '{pattern}' is not found in the text.\")\n"
   ]
  },
  {
   "cell_type": "code",
   "execution_count": 52,
   "id": "fec2bb0a-db43-44a5-8c10-e913ad04ca6b",
   "metadata": {},
   "outputs": [],
   "source": [
    "#Q19 Write a Python program to convert a date of yyyy-mm-dd format to dd-mm-yyyy format."
   ]
  },
  {
   "cell_type": "code",
   "execution_count": 53,
   "id": "41f4bde9-125f-4221-a3cb-6c3308b6c775",
   "metadata": {},
   "outputs": [
    {
     "name": "stdout",
     "output_type": "stream",
     "text": [
      "Original date: 2022-04-01\n",
      "Converted date: 01-04-2022\n"
     ]
    }
   ],
   "source": [
    "from datetime import datetime\n",
    "\n",
    "def convert_date_format(date_str):\n",
    "    date_obj = datetime.strptime(date_str, '%Y-%m-%d')\n",
    "    \n",
    "    formatted_date = date_obj.strftime('%d-%m-%Y')\n",
    "    \n",
    "    return formatted_date\n",
    "\n",
    "date_str = '2022-04-01'\n",
    "\n",
    "formatted_date = convert_date_format(date_str)\n",
    "\n",
    "print(\"Original date:\", date_str)\n",
    "print(\"Converted date:\", formatted_date)\n"
   ]
  },
  {
   "cell_type": "code",
   "execution_count": 54,
   "id": "dc82b735-e305-413f-b71c-a844a9614322",
   "metadata": {},
   "outputs": [],
   "source": [
    "#Q20 Create a function in python to find all decimal numbers with a precision of 1 or 2 in a string. The use of the re.compile() method is mandatory.\n"
   ]
  },
  {
   "cell_type": "code",
   "execution_count": 55,
   "id": "1c883918-4c56-4835-bf61-7de12dc3317d",
   "metadata": {},
   "outputs": [
    {
     "name": "stdout",
     "output_type": "stream",
     "text": [
      "['01.12', '145.8', '3.01', '27.25', '0.25']\n"
     ]
    }
   ],
   "source": [
    "import re\n",
    "\n",
    "def find_decimal_numbers(text):\n",
    "    pattern = re.compile(r'\\b\\d+\\.\\d{1,2}\\b')\n",
    "    \n",
    "    decimal_numbers = pattern.findall(text)\n",
    "    \n",
    "    return decimal_numbers\n",
    "\n",
    "sample_text = \"01.12 0132.123 2.31875 145.8 3.01 27.25 0.25\"\n",
    "\n",
    "output = find_decimal_numbers(sample_text)\n",
    "print(output)\n"
   ]
  },
  {
   "cell_type": "code",
   "execution_count": 56,
   "id": "f6463fe4-1479-4dff-b857-d9f3ed11805c",
   "metadata": {},
   "outputs": [],
   "source": [
    "#Q21 Write a Python program to separate and print the numbers and their position of a given string."
   ]
  },
  {
   "cell_type": "code",
   "execution_count": 57,
   "id": "e946cf17-8a3a-42c0-868e-6862aa7a56f0",
   "metadata": {},
   "outputs": [
    {
     "name": "stdout",
     "output_type": "stream",
     "text": [
      "Number: 1, Position: 4\n",
      "Number: 2, Position: 5\n",
      "Number: 3, Position: 6\n",
      "Number: 4, Position: 10\n",
      "Number: 5, Position: 11\n",
      "Number: 6, Position: 12\n",
      "Number: 7, Position: 16\n",
      "Number: 8, Position: 17\n",
      "Number: 9, Position: 18\n"
     ]
    }
   ],
   "source": [
    "def print_numbers_and_positions(text):\n",
    "    for index, char in enumerate(text):\n",
    "        if char.isdigit():\n",
    "            print(f\"Number: {char}, Position: {index + 1}\")\n",
    "\n",
    "sample_text = \"abc123def456ghi789\"\n",
    "\n",
    "print_numbers_and_positions(sample_text)\n"
   ]
  },
  {
   "cell_type": "code",
   "execution_count": 58,
   "id": "b9b9a3ac-38fc-4820-930a-47aedef03c32",
   "metadata": {},
   "outputs": [],
   "source": [
    "#Q22 Write a regular expression in python program to extract maximum/largest numeric value from a string."
   ]
  },
  {
   "cell_type": "code",
   "execution_count": 59,
   "id": "af7f808a-84b6-40f3-bf8a-5d4f617adc4f",
   "metadata": {},
   "outputs": [
    {
     "name": "stdout",
     "output_type": "stream",
     "text": [
      "Maximum numeric value: 950\n"
     ]
    }
   ],
   "source": [
    "import re\n",
    "\n",
    "def extract_maximum_numeric_value(text):\n",
    "    pattern = re.compile(r'\\b\\d+\\b')\n",
    "    \n",
    "    numeric_values = map(int, pattern.findall(text))\n",
    "    \n",
    "    max_value = max(numeric_values)\n",
    "    \n",
    "    return max_value\n",
    "\n",
    "sample_text = 'My marks in each semester are: 947, 896, 926, 524, 734, 950, 642'\n",
    "\n",
    "max_numeric_value = extract_maximum_numeric_value(sample_text)\n",
    "print(\"Maximum numeric value:\", max_numeric_value)\n"
   ]
  },
  {
   "cell_type": "code",
   "execution_count": 60,
   "id": "968333cf-1ebe-4350-be54-62e3d7a71642",
   "metadata": {},
   "outputs": [],
   "source": [
    "#Q23 Create a function in python to insert spaces between words starting with capital letters."
   ]
  },
  {
   "cell_type": "code",
   "execution_count": 61,
   "id": "adbc60ac-e235-46ce-9ad3-660fa33e9898",
   "metadata": {},
   "outputs": [
    {
     "name": "stdout",
     "output_type": "stream",
     "text": [
      "Regular Expression Is An Important Topic In Python\n"
     ]
    }
   ],
   "source": [
    "import re\n",
    "\n",
    "def insert_spaces(text):\n",
    "    pattern = re.compile(r'(?<!^)(?=[A-Z])')\n",
    "    \n",
    "    modified_text = pattern.sub(' ', text)\n",
    "    \n",
    "    return modified_text\n",
    "\n",
    "sample_text = \"RegularExpressionIsAnImportantTopicInPython\"\n",
    "\n",
    "output = insert_spaces(sample_text)\n",
    "print(output)\n"
   ]
  },
  {
   "cell_type": "code",
   "execution_count": 62,
   "id": "7e09eda6-d3cf-48e2-aa78-d1cd56e80186",
   "metadata": {},
   "outputs": [],
   "source": [
    "#Q24 Python regex to find sequences of one upper case letter followed by lower case letters"
   ]
  },
  {
   "cell_type": "code",
   "execution_count": 63,
   "id": "acc438f3-8150-4005-8f29-a494ab009a00",
   "metadata": {},
   "outputs": [
    {
     "name": "stdout",
     "output_type": "stream",
     "text": [
      "['This', 'Is', 'Test', 'String', 'With', 'Multiple', 'Sequences', 'Like', 'This', 'One']\n"
     ]
    }
   ],
   "source": [
    "import re\n",
    "\n",
    "def find_sequences(text):\n",
    "    pattern = re.compile(r'[A-Z][a-z]+')\n",
    "    \n",
    "    sequences = pattern.findall(text)\n",
    "    \n",
    "    return sequences\n",
    "\n",
    "sample_text = \"This Is a Test String With Multiple Sequences Like This One\"\n",
    "\n",
    "output = find_sequences(sample_text)\n",
    "print(output)\n"
   ]
  },
  {
   "cell_type": "code",
   "execution_count": 64,
   "id": "da5f53ec-0675-46fa-a151-ae3463b8a779",
   "metadata": {},
   "outputs": [],
   "source": [
    "#Q25 Write a Python program to remove continuous duplicate words from Sentence using Regular Expression."
   ]
  },
  {
   "cell_type": "code",
   "execution_count": 65,
   "id": "a253c386-6d7c-46f1-a1dd-9d40707385af",
   "metadata": {},
   "outputs": [
    {
     "name": "stdout",
     "output_type": "stream",
     "text": [
      "Hello world\n"
     ]
    }
   ],
   "source": [
    "import re\n",
    "\n",
    "def remove_continuous_duplicates(sentence):\n",
    "    pattern = re.compile(r'\\b(\\w+)(\\s+\\1\\b)+', flags=re.IGNORECASE)\n",
    "    \n",
    "    modified_sentence = pattern.sub(r'\\1', sentence)\n",
    "    \n",
    "    return modified_sentence\n",
    "\n",
    "sample_text = \"Hello hello world world\"\n",
    "\n",
    "output = remove_continuous_duplicates(sample_text)\n",
    "print(output)\n"
   ]
  },
  {
   "cell_type": "code",
   "execution_count": 66,
   "id": "b0fa15cb-ebc0-47d5-91fe-6eab3954bf48",
   "metadata": {},
   "outputs": [],
   "source": [
    "#Q26 Write a python program using RegEx to accept string ending with alphanumeric character."
   ]
  },
  {
   "cell_type": "code",
   "execution_count": 67,
   "id": "bf7b1c8d-4424-459b-90a8-5e14687fa25b",
   "metadata": {},
   "outputs": [
    {
     "name": "stdout",
     "output_type": "stream",
     "text": [
      "'abc123' ends with an alphanumeric character.\n",
      "'Hello123' ends with an alphanumeric character.\n",
      "'world!' does not end with an alphanumeric character.\n",
      "'123' ends with an alphanumeric character.\n",
      "'abc_' ends with an alphanumeric character.\n"
     ]
    }
   ],
   "source": [
    "import re\n",
    "\n",
    "def accept_ending_alphanumeric(text):\n",
    "    pattern = re.compile(r'\\w$')\n",
    "    \n",
    "    match = pattern.search(text)\n",
    "    \n",
    "    return bool(match)\n",
    "\n",
    "test_strings = [\"abc123\", \"Hello123\", \"world!\", \"123\", \"abc_\"]\n",
    "\n",
    "for string in test_strings:\n",
    "    if accept_ending_alphanumeric(string):\n",
    "        print(f\"'{string}' ends with an alphanumeric character.\")\n",
    "    else:\n",
    "        print(f\"'{string}' does not end with an alphanumeric character.\")\n"
   ]
  },
  {
   "cell_type": "code",
   "execution_count": 68,
   "id": "d07a510c-bd3a-4a1d-aec5-981c44132b41",
   "metadata": {},
   "outputs": [],
   "source": [
    "#Q27"
   ]
  },
  {
   "cell_type": "code",
   "execution_count": 69,
   "id": "e58af0a8-44f2-46cf-8711-2e79bc0006ef",
   "metadata": {},
   "outputs": [
    {
     "name": "stdout",
     "output_type": "stream",
     "text": [
      "['#Doltiwal', '#xyzabc', '#Demonetization']\n"
     ]
    }
   ],
   "source": [
    "import re\n",
    "\n",
    "def extract_hashtags(text):\n",
    "    pattern = re.compile(r'#[\\w]+')\n",
    "    \n",
    "    hashtags = pattern.findall(text)\n",
    "    \n",
    "    return hashtags\n",
    "\n",
    "sample_text = \"\"\"RT @kapil_kausik: #Doltiwal I mean #xyzabc is \"hurt\" by #Demonetization as the same has rendered USELESS <ed><U+00A0><U+00BD><ed><U+00B1><U+0089> \"acquired funds\" No wo\"\"\"\n",
    "\n",
    "output = extract_hashtags(sample_text)\n",
    "print(output)\n"
   ]
  },
  {
   "cell_type": "code",
   "execution_count": 70,
   "id": "7bee39a0-661b-4c0d-8886-7aa0b62f1725",
   "metadata": {},
   "outputs": [],
   "source": [
    "#Q28"
   ]
  },
  {
   "cell_type": "code",
   "execution_count": 71,
   "id": "ebe2d021-cb1a-434c-bbc8-c39f671ec8eb",
   "metadata": {},
   "outputs": [
    {
     "name": "stdout",
     "output_type": "stream",
     "text": [
      "@Jags123456 Bharat band on 28??<ed><ed>Those who  are protesting #demonetization  are all different party leaders\n"
     ]
    }
   ],
   "source": [
    "import re\n",
    "\n",
    "def remove_special_symbols(text):\n",
    "    pattern = re.compile(r'<U\\+[0-9A-Fa-f]+>')\n",
    "    \n",
    "    modified_text = pattern.sub('', text)\n",
    "    \n",
    "    return modified_text\n",
    "\n",
    "# Sample text\n",
    "sample_text = \"@Jags123456 Bharat band on 28??<ed><U+00A0><U+00BD><ed><U+00B8><U+0082>Those who  are protesting #demonetization  are all different party leaders\"\n",
    "\n",
    "output = remove_special_symbols(sample_text)\n",
    "print(output)\n"
   ]
  },
  {
   "cell_type": "code",
   "execution_count": 72,
   "id": "67c4195a-cd5a-461b-92dd-705f9d721e5e",
   "metadata": {},
   "outputs": [],
   "source": [
    "#30"
   ]
  },
  {
   "cell_type": "code",
   "execution_count": 73,
   "id": "d8fdcad5-572f-40ce-ab98-381b53e08fb1",
   "metadata": {},
   "outputs": [
    {
     "name": "stdout",
     "output_type": "stream",
     "text": [
      " following example creates  ArrayList  a capacity   elements. 4 elements   added   ArrayList   ArrayList  trimmed accordingly.\n"
     ]
    }
   ],
   "source": [
    "import re\n",
    "\n",
    "def remove_words_of_length_between_2_and_4(text):\n",
    "    pattern = re.compile(r'\\b\\w{2,4}\\b')\n",
    "    \n",
    "    modified_text = pattern.sub('', text)\n",
    "    \n",
    "    return modified_text\n",
    "\n",
    "sample_text = \"The following example creates an ArrayList with a capacity of 50 elements. 4 elements are then added to the ArrayList and the ArrayList is trimmed accordingly.\"\n",
    "\n",
    "output = remove_words_of_length_between_2_and_4(sample_text)\n",
    "print(output)\n"
   ]
  },
  {
   "cell_type": "code",
   "execution_count": null,
   "id": "c2dd4a8b-dec8-4a8e-8ee9-0fee87d43c18",
   "metadata": {},
   "outputs": [],
   "source": []
  }
 ],
 "metadata": {
  "kernelspec": {
   "display_name": "Python 3 (ipykernel)",
   "language": "python",
   "name": "python3"
  },
  "language_info": {
   "codemirror_mode": {
    "name": "ipython",
    "version": 3
   },
   "file_extension": ".py",
   "mimetype": "text/x-python",
   "name": "python",
   "nbconvert_exporter": "python",
   "pygments_lexer": "ipython3",
   "version": "3.11.7"
  }
 },
 "nbformat": 4,
 "nbformat_minor": 5
}
