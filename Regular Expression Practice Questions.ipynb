{
 "cells": [
  {
   "cell_type": "code",
   "execution_count": 1,
   "id": "75186fa3-08b3-4de1-afa4-c435089367d2",
   "metadata": {},
   "outputs": [],
   "source": [
    "#Q1 Write a RegEx pattern in python program to check that a string contains only a certain set of characters (in this case a-z, A-Z and 0-9)."
   ]
  },
  {
   "cell_type": "code",
   "execution_count": 2,
   "id": "94f87e80-73eb-4946-8d54-0251741d9306",
   "metadata": {},
   "outputs": [
    {
     "name": "stdout",
     "output_type": "stream",
     "text": [
      "'abc123' contains only a-z, A-Z, and 0-9 characters.\n",
      "'HelloWorld' contains only a-z, A-Z, and 0-9 characters.\n",
      "'123456' contains only a-z, A-Z, and 0-9 characters.\n",
      "'ABCDEF' contains only a-z, A-Z, and 0-9 characters.\n",
      "'!@#$%' does not contain only a-z, A-Z, and 0-9 characters.\n"
     ]
    }
   ],
   "source": [
    "import re\n",
    "\n",
    "def check_character_set(text):\n",
    "    pattern = re.compile(r'^[a-zA-Z0-9]+$')\n",
    "    \n",
    "    match = pattern.match(text)\n",
    "    \n",
    "    return bool(match)\n",
    "\n",
    "test_strings = [\"abc123\", \"HelloWorld\", \"123456\", \"ABCDEF\", \"!@#$%\"]\n",
    "\n",
    "for string in test_strings:\n",
    "    if check_character_set(string):\n",
    "        print(f\"'{string}' contains only a-z, A-Z, and 0-9 characters.\")\n",
    "    else:\n",
    "        print(f\"'{string}' does not contain only a-z, A-Z, and 0-9 characters.\")\n"
   ]
  },
  {
   "cell_type": "code",
   "execution_count": 3,
   "id": "dd40e03c-3fdc-4124-8d04-0c690316cd39",
   "metadata": {},
   "outputs": [],
   "source": [
    "#Q2 Write a RegEx pattern that matches a string that has an a followed by zero or more b's"
   ]
  },
  {
   "cell_type": "code",
   "execution_count": 4,
   "id": "eb2bbb45-2ca6-4bf3-99b6-0512f818afac",
   "metadata": {},
   "outputs": [
    {
     "name": "stdout",
     "output_type": "stream",
     "text": [
      "'a' matches the pattern.\n",
      "'ab' matches the pattern.\n",
      "'abb' matches the pattern.\n",
      "'abbb' matches the pattern.\n",
      "'ac' does not match the pattern.\n",
      "'abc' does not match the pattern.\n",
      "'abcd' does not match the pattern.\n"
     ]
    }
   ],
   "source": [
    "import re\n",
    "\n",
    "def match_pattern(text):\n",
    "    pattern = re.compile(r'ab*')\n",
    "    \n",
    "    match = pattern.fullmatch(text)\n",
    "    \n",
    "    return bool(match)\n",
    "\n",
    "test_strings = [\"a\", \"ab\", \"abb\", \"abbb\", \"ac\", \"abc\", \"abcd\"]\n",
    "\n",
    "for string in test_strings:\n",
    "    if match_pattern(string):\n",
    "        print(f\"'{string}' matches the pattern.\")\n",
    "    else:\n",
    "        print(f\"'{string}' does not match the pattern.\")\n"
   ]
  },
  {
   "cell_type": "code",
   "execution_count": 5,
   "id": "14cdabc3-0f7a-4eb5-ba30-fb3d3af95172",
   "metadata": {},
   "outputs": [],
   "source": [
    "#Q3 Write a RegEx pattern that matches a string that has an a followed by one or more b's"
   ]
  },
  {
   "cell_type": "code",
   "execution_count": 6,
   "id": "d35d82ce-2e1e-448c-b7a3-462a53caf1d7",
   "metadata": {},
   "outputs": [
    {
     "name": "stdout",
     "output_type": "stream",
     "text": [
      "'a' does not match the pattern.\n",
      "'ab' matches the pattern.\n",
      "'abb' matches the pattern.\n",
      "'abbb' matches the pattern.\n",
      "'ac' does not match the pattern.\n",
      "'abc' does not match the pattern.\n",
      "'abcd' does not match the pattern.\n"
     ]
    }
   ],
   "source": [
    "import re\n",
    "\n",
    "def match_pattern(text):\n",
    "    pattern = re.compile(r'ab+')\n",
    "    \n",
    "    match = pattern.fullmatch(text)\n",
    "    \n",
    "    return bool(match)\n",
    "\n",
    "test_strings = [\"a\", \"ab\", \"abb\", \"abbb\", \"ac\", \"abc\", \"abcd\"]\n",
    "\n",
    "for string in test_strings:\n",
    "    if match_pattern(string):\n",
    "        print(f\"'{string}' matches the pattern.\")\n",
    "    else:\n",
    "        print(f\"'{string}' does not match the pattern.\")\n"
   ]
  },
  {
   "cell_type": "code",
   "execution_count": 7,
   "id": "17f5f863-ec90-4ab9-b695-adec1a7eb831",
   "metadata": {},
   "outputs": [],
   "source": [
    "#Q4 Write a RegEx pattern that matches a string that has an a followed by zero or one 'b'."
   ]
  },
  {
   "cell_type": "code",
   "execution_count": 8,
   "id": "e24d72c3-70f7-484b-8a5d-4b7de07422c5",
   "metadata": {},
   "outputs": [
    {
     "name": "stdout",
     "output_type": "stream",
     "text": [
      "'a' matches the pattern.\n",
      "'ab' matches the pattern.\n",
      "'ac' does not match the pattern.\n",
      "'abc' does not match the pattern.\n",
      "'abcd' does not match the pattern.\n"
     ]
    }
   ],
   "source": [
    "import re\n",
    "\n",
    "def match_pattern(text):\n",
    "    pattern = re.compile(r'ab?')\n",
    "    \n",
    "    match = pattern.fullmatch(text)\n",
    "    \n",
    "    return bool(match)\n",
    "\n",
    "test_strings = [\"a\", \"ab\", \"ac\", \"abc\", \"abcd\"]\n",
    "\n",
    "for string in test_strings:\n",
    "    if match_pattern(string):\n",
    "        print(f\"'{string}' matches the pattern.\")\n",
    "    else:\n",
    "        print(f\"'{string}' does not match the pattern.\")\n"
   ]
  },
  {
   "cell_type": "code",
   "execution_count": 9,
   "id": "9e0cc076-9817-4b0c-92d6-c0bf4922135b",
   "metadata": {},
   "outputs": [],
   "source": [
    "#Q5 Write a RegEx pattern in python program that matches a string that has an a followed by three 'b'."
   ]
  },
  {
   "cell_type": "code",
   "execution_count": 10,
   "id": "b80bd571-c284-4010-8c89-e884cf02a1b2",
   "metadata": {},
   "outputs": [
    {
     "name": "stdout",
     "output_type": "stream",
     "text": [
      "'abbbb' does not match the pattern.\n",
      "'abbb' matches the pattern.\n",
      "'abbbbb' does not match the pattern.\n",
      "'a' does not match the pattern.\n",
      "'abb' does not match the pattern.\n",
      "'abbbbbbb' does not match the pattern.\n"
     ]
    }
   ],
   "source": [
    "import re\n",
    "\n",
    "def match_pattern(text):\n",
    "    pattern = re.compile(r'ab{3}')\n",
    "\n",
    "    \n",
    "    match = pattern.fullmatch(text)\n",
    "\n",
    "    \n",
    "    return bool(match)\n",
    "\n",
    "\n",
    "test_strings = [\"abbbb\", \"abbb\", \"abbbbb\", \"a\", \"abb\", \"abbbbbbb\"]\n",
    "\n",
    "\n",
    "for string in test_strings:\n",
    "    if match_pattern(string):\n",
    "        print(f\"'{string}' matches the pattern.\")\n",
    "    else:\n",
    "        print(f\"'{string}' does not match the pattern.\")\n"
   ]
  },
  {
   "cell_type": "code",
   "execution_count": 11,
   "id": "f03f8740-034f-409d-97fd-70ba33f50a11",
   "metadata": {},
   "outputs": [],
   "source": [
    "#Q6 Write a RegEx pattern in python program that matches a string that has an a followed by two to three 'b'."
   ]
  },
  {
   "cell_type": "code",
   "execution_count": 12,
   "id": "6fc08826-ffb6-4506-bcd9-cb200e51c6ab",
   "metadata": {},
   "outputs": [
    {
     "name": "stdout",
     "output_type": "stream",
     "text": [
      "'abb' matches the pattern.\n",
      "'abbb' matches the pattern.\n",
      "'abbbb' does not match the pattern.\n",
      "'a' does not match the pattern.\n",
      "'ab' does not match the pattern.\n",
      "'abbbbbbb' does not match the pattern.\n"
     ]
    }
   ],
   "source": [
    "import re\n",
    "\n",
    "def match_pattern(text):\n",
    "    pattern = re.compile(r'ab{2,3}')\n",
    "    \n",
    "    match = pattern.fullmatch(text)\n",
    "    \n",
    "    return bool(match)\n",
    "\n",
    "test_strings = [\"abb\", \"abbb\", \"abbbb\", \"a\", \"ab\", \"abbbbbbb\"]\n",
    "\n",
    "for string in test_strings:\n",
    "    if match_pattern(string):\n",
    "        print(f\"'{string}' matches the pattern.\")\n",
    "    else:\n",
    "        print(f\"'{string}' does not match the pattern.\")\n"
   ]
  },
  {
   "cell_type": "code",
   "execution_count": 14,
   "id": "27917cf8-4f70-4812-955c-f69ac3232908",
   "metadata": {},
   "outputs": [],
   "source": [
    "#Q7 Write a Python program that matches a string that has an 'a' followed by anything, ending in 'b'."
   ]
  },
  {
   "cell_type": "code",
   "execution_count": 15,
   "id": "fb42c7fa-dd2d-44a2-915e-81472b6d759a",
   "metadata": {},
   "outputs": [
    {
     "name": "stdout",
     "output_type": "stream",
     "text": [
      "'abb' matches the pattern.\n",
      "'acb' matches the pattern.\n",
      "'a1234b' matches the pattern.\n",
      "'axb' matches the pattern.\n",
      "'ab' matches the pattern.\n",
      "'abc' does not match the pattern.\n",
      "'abbbbb' matches the pattern.\n"
     ]
    }
   ],
   "source": [
    "import re\n",
    "\n",
    "def match_pattern(text):\n",
    "    pattern = re.compile(r'a.*b$')\n",
    "    \n",
    "    match = pattern.fullmatch(text)\n",
    "    \n",
    "    return bool(match)\n",
    "\n",
    "test_strings = [\"abb\", \"acb\", \"a1234b\", \"axb\", \"ab\", \"abc\", \"abbbbb\"]\n",
    "\n",
    "for string in test_strings:\n",
    "    if match_pattern(string):\n",
    "        print(f\"'{string}' matches the pattern.\")\n",
    "    else:\n",
    "        print(f\"'{string}' does not match the pattern.\")\n"
   ]
  },
  {
   "cell_type": "code",
   "execution_count": 16,
   "id": "52dc061b-0586-4de0-8da9-041276b1c9f3",
   "metadata": {},
   "outputs": [],
   "source": [
    "#Q* Write a RegEx pattern in python program that matches a word at the beginning of a string."
   ]
  },
  {
   "cell_type": "code",
   "execution_count": 17,
   "id": "d5e07198-c2af-4ab6-9249-41d113f4594f",
   "metadata": {},
   "outputs": [
    {
     "name": "stdout",
     "output_type": "stream",
     "text": [
      "For 'Hello world!': Matched word is 'Hello'.\n",
      "For '123abc': Matched word is '123abc'.\n",
      "For 'The quick brown fox': Matched word is 'The'.\n",
      "For '   whitespace': No word matched.\n",
      "For '': No word matched.\n",
      "For '42': Matched word is '42'.\n"
     ]
    }
   ],
   "source": [
    "import re\n",
    "\n",
    "def match_pattern(text):\n",
    "    pattern = re.compile(r'^\\w+')\n",
    "    \n",
    "    match = pattern.search(text)\n",
    "    \n",
    "    if match:\n",
    "        return match.group()\n",
    "    else:\n",
    "        return None\n",
    "\n",
    "test_strings = [\"Hello world!\", \"123abc\", \"The quick brown fox\", \"   whitespace\", \"\", \"42\"]\n",
    "\n",
    "for string in test_strings:\n",
    "    matched_word = match_pattern(string)\n",
    "    if matched_word:\n",
    "        print(f\"For '{string}': Matched word is '{matched_word}'.\")\n",
    "    else:\n",
    "        print(f\"For '{string}': No word matched.\")\n"
   ]
  },
  {
   "cell_type": "code",
   "execution_count": 18,
   "id": "fb94e5aa-39dd-4c05-905a-c91c42b18c1d",
   "metadata": {},
   "outputs": [],
   "source": [
    "#Q9 Write a RegEx pattern in python program that matches a word at the end of a string."
   ]
  },
  {
   "cell_type": "code",
   "execution_count": 19,
   "id": "fbcdc838-6db5-4d6a-8eec-40f289aa73d2",
   "metadata": {},
   "outputs": [
    {
     "name": "stdout",
     "output_type": "stream",
     "text": [
      "For 'Hello world!': No word matched.\n",
      "For '123abc': Matched word is '123abc'.\n",
      "For 'The quick brown fox': Matched word is 'fox'.\n",
      "For '   whitespace': Matched word is 'whitespace'.\n",
      "For '': No word matched.\n",
      "For '42': Matched word is '42'.\n"
     ]
    }
   ],
   "source": [
    "import re\n",
    "\n",
    "def match_pattern(text):\n",
    "    pattern = re.compile(r'\\w+$')\n",
    "    \n",
    "    match = pattern.search(text)\n",
    "    \n",
    "    if match:\n",
    "        return match.group()\n",
    "    else:\n",
    "        return None\n",
    "\n",
    "test_strings = [\"Hello world!\", \"123abc\", \"The quick brown fox\", \"   whitespace\", \"\", \"42\"]\n",
    "\n",
    "for string in test_strings:\n",
    "    matched_word = match_pattern(string)\n",
    "    if matched_word:\n",
    "        print(f\"For '{string}': Matched word is '{matched_word}'.\")\n",
    "    else:\n",
    "        print(f\"For '{string}': No word matched.\")\n"
   ]
  },
  {
   "cell_type": "code",
   "execution_count": 21,
   "id": "52f0866f-eeee-4572-a81e-9df8fc6f9eae",
   "metadata": {},
   "outputs": [],
   "source": [
    "#Q10 Write a RegEx pattern in python program to find all words that are 4 digits long in a string."
   ]
  },
  {
   "cell_type": "code",
   "execution_count": 22,
   "id": "af27dc4e-b332-4fb9-9a5d-ddf564a7e5f9",
   "metadata": {},
   "outputs": [
    {
     "name": "stdout",
     "output_type": "stream",
     "text": [
      "['0132', '1458', '2725']\n"
     ]
    }
   ],
   "source": [
    "import re\n",
    "\n",
    "def find_four_digit_words(text):\n",
    "    pattern = re.compile(r'\\b\\d{4}\\b')\n",
    "    \n",
    "    matches = pattern.findall(text)\n",
    "    \n",
    "    return matches\n",
    "\n",
    "sample_text = '01 0132 231875 1458 301 2725.'\n",
    "\n",
    "result = find_four_digit_words(sample_text)\n",
    "print(result)  # Output: ['0132', '1458', '2725']\n"
   ]
  },
  {
   "cell_type": "code",
   "execution_count": null,
   "id": "89fd1a45-70ea-4ae9-96a7-188dcd7549a5",
   "metadata": {},
   "outputs": [],
   "source": []
  }
 ],
 "metadata": {
  "kernelspec": {
   "display_name": "Python 3 (ipykernel)",
   "language": "python",
   "name": "python3"
  },
  "language_info": {
   "codemirror_mode": {
    "name": "ipython",
    "version": 3
   },
   "file_extension": ".py",
   "mimetype": "text/x-python",
   "name": "python",
   "nbconvert_exporter": "python",
   "pygments_lexer": "ipython3",
   "version": "3.11.7"
  }
 },
 "nbformat": 4,
 "nbformat_minor": 5
}
